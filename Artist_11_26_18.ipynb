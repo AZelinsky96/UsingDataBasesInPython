{
 "cells": [
  {
   "cell_type": "code",
   "execution_count": 1,
   "metadata": {},
   "outputs": [],
   "source": [
    "import sqlite3\n",
    "import os\n"
   ]
  },
  {
   "cell_type": "code",
   "execution_count": 5,
   "metadata": {},
   "outputs": [],
   "source": [
    "os.getcwd()\n",
    "os.chdir('/home/zeski/Documents/Data_Science/SQL/SQL_DBS/')"
   ]
  },
  {
   "cell_type": "code",
   "execution_count": 8,
   "metadata": {},
   "outputs": [],
   "source": [
    "conn = sqlite3.connect('Artist.sqlite')\n",
    "c = conn.cursor()"
   ]
  },
  {
   "cell_type": "markdown",
   "metadata": {},
   "source": [
    "# Creating the Tables for Database: "
   ]
  },
  {
   "cell_type": "code",
   "execution_count": 9,
   "metadata": {},
   "outputs": [
    {
     "data": {
      "text/plain": [
       "<sqlite3.Cursor at 0x7fd4a030f180>"
      ]
     },
     "execution_count": 9,
     "metadata": {},
     "output_type": "execute_result"
    }
   ],
   "source": [
    "c.execute('''\n",
    "        CREATE TABLE IF NOT EXISTS Artist(\n",
    "                            id      INTEGER NOT NULL PRIMARY KEY AUTOINCREMENT,\n",
    "                            name    TEXT\n",
    "        )\n",
    "\n",
    "\n",
    "''')"
   ]
  },
  {
   "cell_type": "code",
   "execution_count": 10,
   "metadata": {},
   "outputs": [
    {
     "data": {
      "text/plain": [
       "<sqlite3.Cursor at 0x7fd4a030f180>"
      ]
     },
     "execution_count": 10,
     "metadata": {},
     "output_type": "execute_result"
    }
   ],
   "source": [
    "c.execute('''\n",
    "        CREATE TABLE IF NOT EXISTS Genre(\n",
    "                        id           INTEGER NOT NULL PRIMARY KEY AUTOINCREMENT UNIQUE,\n",
    "                        name         TEXT\n",
    "        )\n",
    "''')"
   ]
  },
  {
   "cell_type": "code",
   "execution_count": 11,
   "metadata": {},
   "outputs": [
    {
     "data": {
      "text/plain": [
       "<sqlite3.Cursor at 0x7fd4a030f180>"
      ]
     },
     "execution_count": 11,
     "metadata": {},
     "output_type": "execute_result"
    }
   ],
   "source": [
    "c.execute('''\n",
    "        CREATE TABLE IF NOT EXISTS Album(\n",
    "                            id          INTEGER NOT NULL PRIMARY KEY AUTOINCREMENT UNIQUE,\n",
    "                            artist_id   INTEGER,\n",
    "                            title       TEXT\n",
    "        )\n",
    "''')"
   ]
  },
  {
   "cell_type": "code",
   "execution_count": 12,
   "metadata": {},
   "outputs": [
    {
     "data": {
      "text/plain": [
       "<sqlite3.Cursor at 0x7fd4a030f180>"
      ]
     },
     "execution_count": 12,
     "metadata": {},
     "output_type": "execute_result"
    }
   ],
   "source": [
    "c.execute('''\n",
    "        CREATE TABLE IF NOT EXISTS Track(\n",
    "                            id          INTEGER NOT NULL PRIMARY KEY AUTOINCREMENT UNIQUE,\n",
    "                            title       TEXT,\n",
    "                            album_id    INTEGER,\n",
    "                            genre_id    INTEGER, \n",
    "                            len         INTEGER,\n",
    "                            rating      INTEGER,\n",
    "                            count       INTEGER\n",
    "        )\n",
    "''')"
   ]
  },
  {
   "cell_type": "code",
   "execution_count": 13,
   "metadata": {},
   "outputs": [],
   "source": [
    "conn.commit()"
   ]
  },
  {
   "cell_type": "markdown",
   "metadata": {},
   "source": [
    "# Inserting Data into the various tables: "
   ]
  },
  {
   "cell_type": "code",
   "execution_count": 14,
   "metadata": {},
   "outputs": [
    {
     "data": {
      "text/plain": [
       "<sqlite3.Cursor at 0x7fd4a030f180>"
      ]
     },
     "execution_count": 14,
     "metadata": {},
     "output_type": "execute_result"
    }
   ],
   "source": [
    "c.execute('''\n",
    "        INSERT INTO Artist(name) VALUES ('Led Zeppelin')\n",
    "''')\n",
    "c.execute('''\n",
    "        INSERT INTO Artist(name) VALUES ('AC/DC')\n",
    "''')\n",
    "conn.commit()"
   ]
  },
  {
   "cell_type": "code",
   "execution_count": 17,
   "metadata": {},
   "outputs": [],
   "source": [
    "c.execute('''\n",
    "        INSERT INTO Genre(name) VALUES ('Rock')\n",
    "''')\n",
    "c.execute('''\n",
    "        INSERT INTO Genre(name) VALUES ('Metal')\n",
    "''')\n",
    "conn.commit()"
   ]
  },
  {
   "cell_type": "code",
   "execution_count": 20,
   "metadata": {},
   "outputs": [],
   "source": [
    "c.execute('''\n",
    "        INSERT INTO Album(title,artist_id)  VALUES ('Who Made Who',2);\n",
    "''')\n",
    "c.execute('''\n",
    "        INSERT INTO Album(title, artist_id) VALUES ('IV', 1)\n",
    "''')\n",
    "\n",
    "conn.commit()"
   ]
  },
  {
   "cell_type": "code",
   "execution_count": 21,
   "metadata": {},
   "outputs": [],
   "source": [
    "c.execute('''\n",
    "    INSERT INTO Track(title, rating, len,count,album_id, genre_id) VALUES ('Black Dog', 5,297,0,2,1)\n",
    "''')\n",
    "c.execute('''\n",
    "    INSERT INTO Track(title, rating, len,count,album_id, genre_id) VALUES ('Stairway', 5, 482, 0, 2, 1)\n",
    "''')\n",
    "c.execute('''\n",
    "    INSERT INTO Track(title, rating, len,count,album_id, genre_id) VALUES ('About to Rock', 5,313,0,1,2)\n",
    "''')\n",
    "c.execute('''\n",
    "    INSERT INTO Track(title, rating, len,count,album_id, genre_id) VALUES ('Who Made Who', 5,207, 0,1,2)\n",
    "''')\n",
    "conn.commit()"
   ]
  },
  {
   "cell_type": "markdown",
   "metadata": {},
   "source": [
    "## Selecting Data"
   ]
  },
  {
   "cell_type": "code",
   "execution_count": 23,
   "metadata": {},
   "outputs": [
    {
     "name": "stdout",
     "output_type": "stream",
     "text": [
      "[('Who Made Who', 'Led Zeppelin'), ('Who Made Who', 'AC/DC'), ('IV', 'Led Zeppelin'), ('IV', 'AC/DC')]\n"
     ]
    }
   ],
   "source": [
    "c.execute('''\n",
    "        SELECT Album.title, Artist.name FROM Album JOIN Artist ON Album.artist_id = Artist_id\n",
    "''')\n",
    "print(c.fetchall())"
   ]
  },
  {
   "cell_type": "code",
   "execution_count": 25,
   "metadata": {},
   "outputs": [
    {
     "name": "stdout",
     "output_type": "stream",
     "text": [
      "[('Who Made Who', 2, 2, 'AC/DC'), ('IV', 1, 1, 'Led Zeppelin')]\n"
     ]
    }
   ],
   "source": [
    "c.execute('''\n",
    "        SELECT Album.title, Album.artist_id, Artist_id, Artist.name FROM Album join Artist ON Album.artist_id = Artist.id\n",
    "''')\n",
    "print(c.fetchall())"
   ]
  },
  {
   "cell_type": "code",
   "execution_count": 28,
   "metadata": {},
   "outputs": [
    {
     "name": "stdout",
     "output_type": "stream",
     "text": [
      "[('Black Dog', 'Rock'), ('Stairway', 'Rock'), ('About to Rock', 'Metal'), ('Who Made Who', 'Metal')]\n"
     ]
    }
   ],
   "source": [
    "c.execute('''\n",
    "        SELECT Track.title, Genre.name FROM Track JOIN Genre ON Track.genre_id = Genre.id\n",
    "''')\n",
    "print(c.fetchall())"
   ]
  },
  {
   "cell_type": "code",
   "execution_count": 30,
   "metadata": {},
   "outputs": [
    {
     "name": "stdout",
     "output_type": "stream",
     "text": [
      "[('Black Dog', 'Led Zeppelin', 'IV', 'Rock'), ('Stairway', 'Led Zeppelin', 'IV', 'Rock'), ('About to Rock', 'AC/DC', 'Who Made Who', 'Metal'), ('Who Made Who', 'AC/DC', 'Who Made Who', 'Metal')]\n"
     ]
    }
   ],
   "source": [
    "c.execute('''\n",
    "    SELECT Track.title, Artist.name, Album.title, Genre.name FROM Track JOIN Genre JOIN Album JOIN Artist ON Track.genre_id = Genre.id AND Track.album_id = Album.id AND Album.artist_id = Artist.id\n",
    "''')\n",
    "print(c.fetchall())"
   ]
  },
  {
   "cell_type": "code",
   "execution_count": null,
   "metadata": {},
   "outputs": [],
   "source": []
  },
  {
   "cell_type": "code",
   "execution_count": null,
   "metadata": {},
   "outputs": [],
   "source": []
  },
  {
   "cell_type": "code",
   "execution_count": null,
   "metadata": {},
   "outputs": [],
   "source": []
  },
  {
   "cell_type": "code",
   "execution_count": null,
   "metadata": {},
   "outputs": [],
   "source": []
  },
  {
   "cell_type": "code",
   "execution_count": null,
   "metadata": {},
   "outputs": [],
   "source": []
  },
  {
   "cell_type": "code",
   "execution_count": null,
   "metadata": {},
   "outputs": [],
   "source": []
  }
 ],
 "metadata": {
  "kernelspec": {
   "display_name": "Python 3",
   "language": "python",
   "name": "python3"
  },
  "language_info": {
   "codemirror_mode": {
    "name": "ipython",
    "version": 3
   },
   "file_extension": ".py",
   "mimetype": "text/x-python",
   "name": "python",
   "nbconvert_exporter": "python",
   "pygments_lexer": "ipython3",
   "version": "3.6.5"
  }
 },
 "nbformat": 4,
 "nbformat_minor": 2
}
