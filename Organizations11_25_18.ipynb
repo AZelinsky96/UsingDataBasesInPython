{
 "cells": [
  {
   "cell_type": "markdown",
   "metadata": {},
   "source": [
    "## Creating a database for the organizations and Counting them: "
   ]
  },
  {
   "cell_type": "code",
   "execution_count": 1,
   "metadata": {},
   "outputs": [
    {
     "data": {
      "text/plain": [
       "'/home/zeski/Documents/Data_Science/SQL/SQL_DBS'"
      ]
     },
     "execution_count": 1,
     "metadata": {},
     "output_type": "execute_result"
    }
   ],
   "source": [
    "import sqlite3\n",
    "import os\n",
    "\n",
    "os.chdir('/home/zeski/Documents/Data_Science/SQL/SQL_DBS')\n",
    "os.getcwd()"
   ]
  },
  {
   "cell_type": "code",
   "execution_count": 2,
   "metadata": {},
   "outputs": [],
   "source": [
    "conn= sqlite3.connect('organizations.sqlite')\n",
    "c = conn.cursor()"
   ]
  },
  {
   "cell_type": "code",
   "execution_count": 3,
   "metadata": {},
   "outputs": [
    {
     "data": {
      "text/plain": [
       "<sqlite3.Cursor at 0x7f68dc0b9f80>"
      ]
     },
     "execution_count": 3,
     "metadata": {},
     "output_type": "execute_result"
    }
   ],
   "source": [
    "c.execute('''\n",
    "    CREATE TABLE IF NOT EXISTS Counts(org TEXT, count INTEGER)\n",
    "''')"
   ]
  },
  {
   "cell_type": "code",
   "execution_count": 4,
   "metadata": {},
   "outputs": [],
   "source": [
    "fname= input('Enter file name: ')\n",
    "\n",
    "if (len(fname)<1): fname = 'mbox.txt'\n",
    "fh = open(fname)\n",
    "orgas= []\n",
    "for line in fh:\n",
    "    if not line.startswith('From: '): continue\n",
    "    piece = line.strip('\\n').split('@')\n",
    "    org = piece[1]\n",
    "    #orgas.append(piece[1])\n",
    "    c.execute('''\n",
    "            SELECT count FROM Counts WHERE org = ? \n",
    "    ''', (org,))\n",
    "    row = c.fetchone()\n",
    "\n",
    "    if row is None:\n",
    "        c.execute('''\n",
    "                INSERT INTO Counts (org, count)\n",
    "                VALUES(?, 1)\n",
    "        ''', (org,))\n",
    "    else:\n",
    "         c.execute('''\n",
    "                 UPDATE Counts SET count = count +1 WHERE org = ?\n",
    "         ''',(org,))\n",
    "conn.commit()"
   ]
  },
  {
   "cell_type": "code",
   "execution_count": 5,
   "metadata": {},
   "outputs": [
    {
     "data": {
      "text/plain": [
       "[('iupui.edu', 536),\n",
       " ('umich.edu', 491),\n",
       " ('indiana.edu', 178),\n",
       " ('caret.cam.ac.uk', 157),\n",
       " ('vt.edu', 110),\n",
       " ('uct.ac.za', 96),\n",
       " ('media.berkeley.edu', 56),\n",
       " ('ufp.pt', 28),\n",
       " ('gmail.com', 25),\n",
       " ('et.gatech.edu', 17),\n",
       " ('txstate.edu', 17),\n",
       " ('whitman.edu', 17),\n",
       " ('lancaster.ac.uk', 14),\n",
       " ('bu.edu', 14),\n",
       " ('stanford.edu', 12),\n",
       " ('unicon.net', 9),\n",
       " ('loi.nl', 9),\n",
       " ('rsmart.com', 8),\n",
       " ('ucdavis.edu', 1),\n",
       " ('fhda.edu', 1),\n",
       " ('utoronto.ca', 1)]"
      ]
     },
     "execution_count": 5,
     "metadata": {},
     "output_type": "execute_result"
    }
   ],
   "source": [
    "sql = 'SELECT * FROM Counts ORDER BY count DESC'\n",
    "\n",
    "c.execute(sql)\n",
    "c.fetchall()"
   ]
  },
  {
   "cell_type": "code",
   "execution_count": 6,
   "metadata": {},
   "outputs": [],
   "source": [
    "c.close()\n",
    "conn.close()"
   ]
  }
 ],
 "metadata": {
  "kernelspec": {
   "display_name": "Python 3",
   "language": "python",
   "name": "python3"
  },
  "language_info": {
   "codemirror_mode": {
    "name": "ipython",
    "version": 3
   },
   "file_extension": ".py",
   "mimetype": "text/x-python",
   "name": "python",
   "nbconvert_exporter": "python",
   "pygments_lexer": "ipython3",
   "version": "3.6.5"
  }
 },
 "nbformat": 4,
 "nbformat_minor": 2
}
